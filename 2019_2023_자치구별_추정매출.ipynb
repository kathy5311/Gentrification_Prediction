{
  "cells": [
    {
      "cell_type": "markdown",
      "metadata": {
        "id": "view-in-github",
        "colab_type": "text"
      },
      "source": [
        "<a href=\"https://colab.research.google.com/github/kathy5311/Gentrification_Prediction/blob/main/2019_2023_%EC%9E%90%EC%B9%98%EA%B5%AC%EB%B3%84_%EC%B6%94%EC%A0%95%EB%A7%A4%EC%B6%9C.ipynb\" target=\"_parent\"><img src=\"https://colab.research.google.com/assets/colab-badge.svg\" alt=\"Open In Colab\"/></a>"
      ]
    },
    {
      "cell_type": "code",
      "execution_count": null,
      "id": "d5688081",
      "metadata": {
        "id": "d5688081"
      },
      "outputs": [],
      "source": [
        "import pandas as pd"
      ]
    },
    {
      "cell_type": "code",
      "execution_count": null,
      "id": "089c8d08",
      "metadata": {
        "id": "089c8d08"
      },
      "outputs": [],
      "source": [
        "sale_df = pd.read_csv('서울시 상권분석서비스(추정매출-자치구).csv', encoding = 'CP949')"
      ]
    },
    {
      "cell_type": "code",
      "execution_count": null,
      "id": "b06186c2",
      "metadata": {
        "id": "b06186c2",
        "outputId": "21e8cbb4-3dcc-4ff5-d283-357d263ca82c"
      },
      "outputs": [
        {
          "data": {
            "text/html": [
              "<div>\n",
              "<style scoped>\n",
              "    .dataframe tbody tr th:only-of-type {\n",
              "        vertical-align: middle;\n",
              "    }\n",
              "\n",
              "    .dataframe tbody tr th {\n",
              "        vertical-align: top;\n",
              "    }\n",
              "\n",
              "    .dataframe thead th {\n",
              "        text-align: right;\n",
              "    }\n",
              "</style>\n",
              "<table border=\"1\" class=\"dataframe\">\n",
              "  <thead>\n",
              "    <tr style=\"text-align: right;\">\n",
              "      <th></th>\n",
              "      <th>기준_년분기_코드</th>\n",
              "      <th>자치구_코드</th>\n",
              "      <th>자치구_코드_명</th>\n",
              "      <th>서비스_업종_코드</th>\n",
              "      <th>서비스_업종_코드_명</th>\n",
              "      <th>당월_매출_금액</th>\n",
              "      <th>당월_매출_건수</th>\n",
              "      <th>주중_매출_금액</th>\n",
              "      <th>주말_매출_금액</th>\n",
              "      <th>월요일_매출_금액</th>\n",
              "      <th>...</th>\n",
              "      <th>시간대_건수~21_매출_건수</th>\n",
              "      <th>시간대_건수~24_매출_건수</th>\n",
              "      <th>남성_매출_건수</th>\n",
              "      <th>여성_매출_건수</th>\n",
              "      <th>연령대_10_매출_건수</th>\n",
              "      <th>연령대_20_매출_건수</th>\n",
              "      <th>연령대_30_매출_건수</th>\n",
              "      <th>연령대_40_매출_건수</th>\n",
              "      <th>연령대_50_매출_건수</th>\n",
              "      <th>연령대_60_이상_매출_건수</th>\n",
              "    </tr>\n",
              "  </thead>\n",
              "  <tbody>\n",
              "    <tr>\n",
              "      <th>0</th>\n",
              "      <td>20191</td>\n",
              "      <td>11110</td>\n",
              "      <td>종로구</td>\n",
              "      <td>CS300028</td>\n",
              "      <td>화초</td>\n",
              "      <td>1495850124</td>\n",
              "      <td>36765</td>\n",
              "      <td>1314004524</td>\n",
              "      <td>181845600</td>\n",
              "      <td>171773552</td>\n",
              "      <td>...</td>\n",
              "      <td>14178</td>\n",
              "      <td>882</td>\n",
              "      <td>14947</td>\n",
              "      <td>17876</td>\n",
              "      <td>345</td>\n",
              "      <td>10672</td>\n",
              "      <td>9937</td>\n",
              "      <td>6291</td>\n",
              "      <td>4030</td>\n",
              "      <td>1542</td>\n",
              "    </tr>\n",
              "    <tr>\n",
              "      <th>1</th>\n",
              "      <td>20191</td>\n",
              "      <td>11110</td>\n",
              "      <td>종로구</td>\n",
              "      <td>CS100004</td>\n",
              "      <td>양식음식점</td>\n",
              "      <td>21733503173</td>\n",
              "      <td>586239</td>\n",
              "      <td>15141392928</td>\n",
              "      <td>6592110245</td>\n",
              "      <td>2473306312</td>\n",
              "      <td>...</td>\n",
              "      <td>210914</td>\n",
              "      <td>51176</td>\n",
              "      <td>244199</td>\n",
              "      <td>295978</td>\n",
              "      <td>6781</td>\n",
              "      <td>212438</td>\n",
              "      <td>144750</td>\n",
              "      <td>90539</td>\n",
              "      <td>62719</td>\n",
              "      <td>22943</td>\n",
              "    </tr>\n",
              "    <tr>\n",
              "      <th>2</th>\n",
              "      <td>20191</td>\n",
              "      <td>11110</td>\n",
              "      <td>종로구</td>\n",
              "      <td>CS100007</td>\n",
              "      <td>치킨전문점</td>\n",
              "      <td>3247811505</td>\n",
              "      <td>111086</td>\n",
              "      <td>2414124197</td>\n",
              "      <td>833687308</td>\n",
              "      <td>387818146</td>\n",
              "      <td>...</td>\n",
              "      <td>40712</td>\n",
              "      <td>38887</td>\n",
              "      <td>60952</td>\n",
              "      <td>43654</td>\n",
              "      <td>2077</td>\n",
              "      <td>34735</td>\n",
              "      <td>25143</td>\n",
              "      <td>20359</td>\n",
              "      <td>16465</td>\n",
              "      <td>5826</td>\n",
              "    </tr>\n",
              "  </tbody>\n",
              "</table>\n",
              "<p>3 rows × 53 columns</p>\n",
              "</div>"
            ],
            "text/plain": [
              "   기준_년분기_코드  자치구_코드 자치구_코드_명 서비스_업종_코드 서비스_업종_코드_명     당월_매출_금액  당월_매출_건수  \\\n",
              "0      20191   11110      종로구  CS300028          화초   1495850124     36765   \n",
              "1      20191   11110      종로구  CS100004       양식음식점  21733503173    586239   \n",
              "2      20191   11110      종로구  CS100007       치킨전문점   3247811505    111086   \n",
              "\n",
              "      주중_매출_금액    주말_매출_금액   월요일_매출_금액  ...  시간대_건수~21_매출_건수  시간대_건수~24_매출_건수  \\\n",
              "0   1314004524   181845600   171773552  ...            14178              882   \n",
              "1  15141392928  6592110245  2473306312  ...           210914            51176   \n",
              "2   2414124197   833687308   387818146  ...            40712            38887   \n",
              "\n",
              "   남성_매출_건수  여성_매출_건수  연령대_10_매출_건수  연령대_20_매출_건수  연령대_30_매출_건수  연령대_40_매출_건수  \\\n",
              "0     14947     17876           345         10672          9937          6291   \n",
              "1    244199    295978          6781        212438        144750         90539   \n",
              "2     60952     43654          2077         34735         25143         20359   \n",
              "\n",
              "   연령대_50_매출_건수  연령대_60_이상_매출_건수  \n",
              "0          4030             1542  \n",
              "1         62719            22943  \n",
              "2         16465             5826  \n",
              "\n",
              "[3 rows x 53 columns]"
            ]
          },
          "execution_count": 3,
          "metadata": {},
          "output_type": "execute_result"
        }
      ],
      "source": [
        "sale_df.head(3)"
      ]
    },
    {
      "cell_type": "code",
      "execution_count": null,
      "id": "9caca95a",
      "metadata": {
        "id": "9caca95a",
        "outputId": "1c0b7182-a4e3-489b-d070-e79a561d8779"
      },
      "outputs": [
        {
          "name": "stdout",
          "output_type": "stream",
          "text": [
            "<class 'pandas.core.frame.DataFrame'>\n",
            "RangeIndex: 29304 entries, 0 to 29303\n",
            "Data columns (total 53 columns):\n",
            " #   Column           Non-Null Count  Dtype \n",
            "---  ------           --------------  ----- \n",
            " 0   기준_년분기_코드        29304 non-null  int64 \n",
            " 1   자치구_코드           29304 non-null  int64 \n",
            " 2   자치구_코드_명         29304 non-null  object\n",
            " 3   서비스_업종_코드        29304 non-null  object\n",
            " 4   서비스_업종_코드_명      29304 non-null  object\n",
            " 5   당월_매출_금액         29304 non-null  int64 \n",
            " 6   당월_매출_건수         29304 non-null  int64 \n",
            " 7   주중_매출_금액         29304 non-null  int64 \n",
            " 8   주말_매출_금액         29304 non-null  int64 \n",
            " 9   월요일_매출_금액        29304 non-null  int64 \n",
            " 10  화요일_매출_금액        29304 non-null  int64 \n",
            " 11  수요일_매출_금액        29304 non-null  int64 \n",
            " 12  목요일_매출_금액        29304 non-null  int64 \n",
            " 13  금요일_매출_금액        29304 non-null  int64 \n",
            " 14  토요일_매출_금액        29304 non-null  int64 \n",
            " 15  일요일_매출_금액        29304 non-null  int64 \n",
            " 16  시간대_00~06_매출_금액  29304 non-null  int64 \n",
            " 17  시간대_06~11_매출_금액  29304 non-null  int64 \n",
            " 18  시간대_11~14_매출_금액  29304 non-null  int64 \n",
            " 19  시간대_14~17_매출_금액  29304 non-null  int64 \n",
            " 20  시간대_17~21_매출_금액  29304 non-null  int64 \n",
            " 21  시간대_21~24_매출_금액  29304 non-null  int64 \n",
            " 22  남성_매출_금액         29304 non-null  int64 \n",
            " 23  여성_매출_금액         29304 non-null  int64 \n",
            " 24  연령대_10_매출_금액     29304 non-null  int64 \n",
            " 25  연령대_20_매출_금액     29304 non-null  int64 \n",
            " 26  연령대_30_매출_금액     29304 non-null  int64 \n",
            " 27  연령대_40_매출_금액     29304 non-null  int64 \n",
            " 28  연령대_50_매출_금액     29304 non-null  int64 \n",
            " 29  연령대_60_이상_매출_금액  29304 non-null  int64 \n",
            " 30  주중_매출_건수         29304 non-null  int64 \n",
            " 31  주말_매출_건수         29304 non-null  int64 \n",
            " 32  월요일_매출_건수        29304 non-null  int64 \n",
            " 33  화요일_매출_건수        29304 non-null  int64 \n",
            " 34  수요일_매출_건수        29304 non-null  int64 \n",
            " 35  목요일_매출_건수        29304 non-null  int64 \n",
            " 36  금요일_매출_건수        29304 non-null  int64 \n",
            " 37  토요일_매출_건수        29304 non-null  int64 \n",
            " 38  일요일_매출_건수        29304 non-null  int64 \n",
            " 39  시간대_건수~06_매출_건수  29304 non-null  int64 \n",
            " 40  시간대_건수~11_매출_건수  29304 non-null  int64 \n",
            " 41  시간대_건수~14_매출_건수  29304 non-null  int64 \n",
            " 42  시간대_건수~17_매출_건수  29304 non-null  int64 \n",
            " 43  시간대_건수~21_매출_건수  29304 non-null  int64 \n",
            " 44  시간대_건수~24_매출_건수  29304 non-null  int64 \n",
            " 45  남성_매출_건수         29304 non-null  int64 \n",
            " 46  여성_매출_건수         29304 non-null  int64 \n",
            " 47  연령대_10_매출_건수     29304 non-null  int64 \n",
            " 48  연령대_20_매출_건수     29304 non-null  int64 \n",
            " 49  연령대_30_매출_건수     29304 non-null  int64 \n",
            " 50  연령대_40_매출_건수     29304 non-null  int64 \n",
            " 51  연령대_50_매출_건수     29304 non-null  int64 \n",
            " 52  연령대_60_이상_매출_건수  29304 non-null  int64 \n",
            "dtypes: int64(50), object(3)\n",
            "memory usage: 11.8+ MB\n"
          ]
        }
      ],
      "source": [
        "sale_df.info()"
      ]
    },
    {
      "cell_type": "code",
      "execution_count": null,
      "id": "ba2dd325",
      "metadata": {
        "id": "ba2dd325",
        "outputId": "70d9e92d-f732-4b58-aaa7-ed382b846f78"
      },
      "outputs": [
        {
          "data": {
            "text/html": [
              "<div>\n",
              "<style scoped>\n",
              "    .dataframe tbody tr th:only-of-type {\n",
              "        vertical-align: middle;\n",
              "    }\n",
              "\n",
              "    .dataframe tbody tr th {\n",
              "        vertical-align: top;\n",
              "    }\n",
              "\n",
              "    .dataframe thead th {\n",
              "        text-align: right;\n",
              "    }\n",
              "</style>\n",
              "<table border=\"1\" class=\"dataframe\">\n",
              "  <thead>\n",
              "    <tr style=\"text-align: right;\">\n",
              "      <th></th>\n",
              "      <th>기준_년분기_코드</th>\n",
              "      <th>자치구_코드_명</th>\n",
              "      <th>서비스_업종_코드_명</th>\n",
              "      <th>당월_매출_금액</th>\n",
              "      <th>당월_매출_건수</th>\n",
              "      <th>주중_매출_금액</th>\n",
              "      <th>주중_매출_건수</th>\n",
              "      <th>주말_매출_금액</th>\n",
              "      <th>주말_매출_건수</th>\n",
              "      <th>남성_매출_금액</th>\n",
              "      <th>...</th>\n",
              "      <th>연령대_30_매출_금액</th>\n",
              "      <th>연령대_40_매출_금액</th>\n",
              "      <th>연령대_50_매출_금액</th>\n",
              "      <th>연령대_60_이상_매출_금액</th>\n",
              "      <th>연령대_10_매출_건수</th>\n",
              "      <th>연령대_20_매출_건수</th>\n",
              "      <th>연령대_30_매출_건수</th>\n",
              "      <th>연령대_40_매출_건수</th>\n",
              "      <th>연령대_50_매출_건수</th>\n",
              "      <th>연령대_60_이상_매출_건수</th>\n",
              "    </tr>\n",
              "  </thead>\n",
              "  <tbody>\n",
              "    <tr>\n",
              "      <th>0</th>\n",
              "      <td>20191</td>\n",
              "      <td>종로구</td>\n",
              "      <td>화초</td>\n",
              "      <td>1495850124</td>\n",
              "      <td>36765</td>\n",
              "      <td>1314004524</td>\n",
              "      <td>29363</td>\n",
              "      <td>181845600</td>\n",
              "      <td>7402</td>\n",
              "      <td>465985416</td>\n",
              "      <td>...</td>\n",
              "      <td>286985195</td>\n",
              "      <td>225269811</td>\n",
              "      <td>249285099</td>\n",
              "      <td>77648643</td>\n",
              "      <td>345</td>\n",
              "      <td>10672</td>\n",
              "      <td>9937</td>\n",
              "      <td>6291</td>\n",
              "      <td>4030</td>\n",
              "      <td>1542</td>\n",
              "    </tr>\n",
              "    <tr>\n",
              "      <th>1</th>\n",
              "      <td>20191</td>\n",
              "      <td>종로구</td>\n",
              "      <td>양식음식점</td>\n",
              "      <td>21733503173</td>\n",
              "      <td>586239</td>\n",
              "      <td>15141392928</td>\n",
              "      <td>410321</td>\n",
              "      <td>6592110245</td>\n",
              "      <td>175918</td>\n",
              "      <td>8465129069</td>\n",
              "      <td>...</td>\n",
              "      <td>4967963671</td>\n",
              "      <td>3236855795</td>\n",
              "      <td>2407946855</td>\n",
              "      <td>1049872442</td>\n",
              "      <td>6781</td>\n",
              "      <td>212438</td>\n",
              "      <td>144750</td>\n",
              "      <td>90539</td>\n",
              "      <td>62719</td>\n",
              "      <td>22943</td>\n",
              "    </tr>\n",
              "    <tr>\n",
              "      <th>2</th>\n",
              "      <td>20191</td>\n",
              "      <td>종로구</td>\n",
              "      <td>치킨전문점</td>\n",
              "      <td>3247811505</td>\n",
              "      <td>111086</td>\n",
              "      <td>2414124197</td>\n",
              "      <td>81739</td>\n",
              "      <td>833687308</td>\n",
              "      <td>29347</td>\n",
              "      <td>1765155389</td>\n",
              "      <td>...</td>\n",
              "      <td>698362320</td>\n",
              "      <td>599689873</td>\n",
              "      <td>471883377</td>\n",
              "      <td>161088031</td>\n",
              "      <td>2077</td>\n",
              "      <td>34735</td>\n",
              "      <td>25143</td>\n",
              "      <td>20359</td>\n",
              "      <td>16465</td>\n",
              "      <td>5826</td>\n",
              "    </tr>\n",
              "  </tbody>\n",
              "</table>\n",
              "<p>3 rows × 23 columns</p>\n",
              "</div>"
            ],
            "text/plain": [
              "   기준_년분기_코드 자치구_코드_명 서비스_업종_코드_명     당월_매출_금액  당월_매출_건수     주중_매출_금액  \\\n",
              "0      20191      종로구          화초   1495850124     36765   1314004524   \n",
              "1      20191      종로구       양식음식점  21733503173    586239  15141392928   \n",
              "2      20191      종로구       치킨전문점   3247811505    111086   2414124197   \n",
              "\n",
              "   주중_매출_건수    주말_매출_금액  주말_매출_건수    남성_매출_금액  ...  연령대_30_매출_금액  \\\n",
              "0     29363   181845600      7402   465985416  ...     286985195   \n",
              "1    410321  6592110245    175918  8465129069  ...    4967963671   \n",
              "2     81739   833687308     29347  1765155389  ...     698362320   \n",
              "\n",
              "   연령대_40_매출_금액  연령대_50_매출_금액  연령대_60_이상_매출_금액  연령대_10_매출_건수  연령대_20_매출_건수  \\\n",
              "0     225269811     249285099         77648643           345         10672   \n",
              "1    3236855795    2407946855       1049872442          6781        212438   \n",
              "2     599689873     471883377        161088031          2077         34735   \n",
              "\n",
              "   연령대_30_매출_건수  연령대_40_매출_건수  연령대_50_매출_건수  연령대_60_이상_매출_건수  \n",
              "0          9937          6291          4030             1542  \n",
              "1        144750         90539         62719            22943  \n",
              "2         25143         20359         16465             5826  \n",
              "\n",
              "[3 rows x 23 columns]"
            ]
          },
          "execution_count": 5,
          "metadata": {},
          "output_type": "execute_result"
        }
      ],
      "source": [
        "# 사용할 컬럼\n",
        "\n",
        "sale_df = sale_df[['기준_년분기_코드', '자치구_코드_명', '서비스_업종_코드_명', '당월_매출_금액', '당월_매출_건수', '주중_매출_금액', '주중_매출_건수',\n",
        "                  '주말_매출_금액', '주말_매출_건수', '남성_매출_금액', '여성_매출_금액', '연령대_10_매출_금액', '연령대_20_매출_금액',\n",
        "                  '연령대_30_매출_금액', '연령대_40_매출_금액', '연령대_50_매출_금액', '연령대_60_이상_매출_금액',\n",
        "                  '연령대_10_매출_건수', '연령대_20_매출_건수', '연령대_30_매출_건수', '연령대_40_매출_건수', '연령대_50_매출_건수',\n",
        "                  '연령대_60_이상_매출_건수']]\n",
        "\n",
        "sale_df.head(3)"
      ]
    },
    {
      "cell_type": "code",
      "execution_count": null,
      "id": "e8d146dd",
      "metadata": {
        "id": "e8d146dd",
        "outputId": "de00bc75-67ee-4fab-8daa-4494671ef474"
      },
      "outputs": [
        {
          "data": {
            "text/plain": [
              "20232    1547\n",
              "20221    1546\n",
              "20202    1546\n",
              "20224    1545\n",
              "20203    1544\n",
              "20213    1544\n",
              "20212    1544\n",
              "20231    1543\n",
              "20222    1543\n",
              "20204    1543\n",
              "20223    1542\n",
              "20214    1541\n",
              "20211    1541\n",
              "20233    1541\n",
              "20194    1540\n",
              "20193    1540\n",
              "20201    1539\n",
              "20192    1539\n",
              "20191    1536\n",
              "Name: 기준_년분기_코드, dtype: int64"
            ]
          },
          "execution_count": 6,
          "metadata": {},
          "output_type": "execute_result"
        }
      ],
      "source": [
        "# 기준년분기_코드 - 2019, 2023년만\n",
        "\n",
        "sale_df['기준_년분기_코드'].value_counts()"
      ]
    },
    {
      "cell_type": "code",
      "execution_count": null,
      "id": "bf28b1a2",
      "metadata": {
        "id": "bf28b1a2",
        "outputId": "f0c3d02a-2ec2-411e-ebb3-f92f5709e430"
      },
      "outputs": [
        {
          "name": "stdout",
          "output_type": "stream",
          "text": [
            "<class 'pandas.core.series.Series'>\n",
            "RangeIndex: 29304 entries, 0 to 29303\n",
            "Series name: 기준_년분기_코드\n",
            "Non-Null Count  Dtype\n",
            "--------------  -----\n",
            "29304 non-null  int64\n",
            "dtypes: int64(1)\n",
            "memory usage: 229.1 KB\n"
          ]
        }
      ],
      "source": [
        "sale_df['기준_년분기_코드'].info()"
      ]
    },
    {
      "cell_type": "markdown",
      "id": "d39cf9af",
      "metadata": {
        "id": "d39cf9af"
      },
      "source": [
        "### 2019, 2023 데이터만 살리기"
      ]
    },
    {
      "cell_type": "code",
      "execution_count": null,
      "id": "2d075196",
      "metadata": {
        "id": "2d075196"
      },
      "outputs": [],
      "source": [
        "sale_df['기준_년분기_코드'] = [str(y)[:4] for y in sale_df['기준_년분기_코드']]"
      ]
    },
    {
      "cell_type": "code",
      "execution_count": null,
      "id": "80905d9c",
      "metadata": {
        "id": "80905d9c"
      },
      "outputs": [],
      "source": [
        "#sale_df.dtypes"
      ]
    },
    {
      "cell_type": "code",
      "execution_count": null,
      "id": "113b935e",
      "metadata": {
        "id": "113b935e"
      },
      "outputs": [],
      "source": [
        "sale_df_19 = sale_df[sale_df['기준_년분기_코드'] == '2019']"
      ]
    },
    {
      "cell_type": "code",
      "execution_count": null,
      "id": "10751511",
      "metadata": {
        "id": "10751511"
      },
      "outputs": [],
      "source": [
        "sale_df_23 = sale_df[sale_df['기준_년분기_코드'] == '2023']"
      ]
    },
    {
      "cell_type": "code",
      "execution_count": null,
      "id": "e2f67d81",
      "metadata": {
        "id": "e2f67d81"
      },
      "outputs": [],
      "source": [
        "sale_df_1923 = pd.concat([sale_df_19, sale_df_23])"
      ]
    },
    {
      "cell_type": "code",
      "execution_count": null,
      "id": "a2b8cded",
      "metadata": {
        "id": "a2b8cded",
        "outputId": "6feeb306-6c9e-436f-f78b-f4ed1fdf4833"
      },
      "outputs": [
        {
          "data": {
            "text/plain": [
              "2019    6155\n",
              "2023    4631\n",
              "Name: 기준_년분기_코드, dtype: int64"
            ]
          },
          "execution_count": 14,
          "metadata": {},
          "output_type": "execute_result"
        }
      ],
      "source": [
        "sale_df_1923['기준_년분기_코드'].value_counts()"
      ]
    },
    {
      "cell_type": "code",
      "execution_count": null,
      "id": "b9c6d2cf",
      "metadata": {
        "id": "b9c6d2cf",
        "outputId": "a790714a-ab9c-4673-b260-1c7bc18b5d89"
      },
      "outputs": [
        {
          "name": "stdout",
          "output_type": "stream",
          "text": [
            "<class 'pandas.core.frame.DataFrame'>\n",
            "Int64Index: 10786 entries, 0 to 29303\n",
            "Data columns (total 23 columns):\n",
            " #   Column           Non-Null Count  Dtype \n",
            "---  ------           --------------  ----- \n",
            " 0   기준_년분기_코드        10786 non-null  object\n",
            " 1   자치구_코드_명         10786 non-null  object\n",
            " 2   서비스_업종_코드_명      10786 non-null  object\n",
            " 3   당월_매출_금액         10786 non-null  int64 \n",
            " 4   당월_매출_건수         10786 non-null  int64 \n",
            " 5   주중_매출_금액         10786 non-null  int64 \n",
            " 6   주중_매출_건수         10786 non-null  int64 \n",
            " 7   주말_매출_금액         10786 non-null  int64 \n",
            " 8   주말_매출_건수         10786 non-null  int64 \n",
            " 9   남성_매출_금액         10786 non-null  int64 \n",
            " 10  여성_매출_금액         10786 non-null  int64 \n",
            " 11  연령대_10_매출_금액     10786 non-null  int64 \n",
            " 12  연령대_20_매출_금액     10786 non-null  int64 \n",
            " 13  연령대_30_매출_금액     10786 non-null  int64 \n",
            " 14  연령대_40_매출_금액     10786 non-null  int64 \n",
            " 15  연령대_50_매출_금액     10786 non-null  int64 \n",
            " 16  연령대_60_이상_매출_금액  10786 non-null  int64 \n",
            " 17  연령대_10_매출_건수     10786 non-null  int64 \n",
            " 18  연령대_20_매출_건수     10786 non-null  int64 \n",
            " 19  연령대_30_매출_건수     10786 non-null  int64 \n",
            " 20  연령대_40_매출_건수     10786 non-null  int64 \n",
            " 21  연령대_50_매출_건수     10786 non-null  int64 \n",
            " 22  연령대_60_이상_매출_건수  10786 non-null  int64 \n",
            "dtypes: int64(20), object(3)\n",
            "memory usage: 2.0+ MB\n"
          ]
        }
      ],
      "source": [
        "sale_df_1923.info()"
      ]
    },
    {
      "cell_type": "markdown",
      "id": "379b2cce",
      "metadata": {
        "id": "379b2cce"
      },
      "source": [
        "### 서비스 업종명 - 프랜차이즈 수가 많은 업종으로 한정 짓기 위해 \"점포-자치구\" 데이터 활용\n",
        "### 엑셀로 저장해서 인사이트 얻기!"
      ]
    },
    {
      "cell_type": "code",
      "execution_count": null,
      "id": "698f1b5f",
      "metadata": {
        "id": "698f1b5f",
        "outputId": "784d31c8-7f3e-44c6-f78d-3ceaa315aaae"
      },
      "outputs": [
        {
          "data": {
            "text/html": [
              "<div>\n",
              "<style scoped>\n",
              "    .dataframe tbody tr th:only-of-type {\n",
              "        vertical-align: middle;\n",
              "    }\n",
              "\n",
              "    .dataframe tbody tr th {\n",
              "        vertical-align: top;\n",
              "    }\n",
              "\n",
              "    .dataframe thead th {\n",
              "        text-align: right;\n",
              "    }\n",
              "</style>\n",
              "<table border=\"1\" class=\"dataframe\">\n",
              "  <thead>\n",
              "    <tr style=\"text-align: right;\">\n",
              "      <th></th>\n",
              "      <th>기준_년분기_코드</th>\n",
              "      <th>자치구_코드</th>\n",
              "      <th>자치구_코드_명</th>\n",
              "      <th>서비스_업종_코드</th>\n",
              "      <th>서비스_업종_코드_명</th>\n",
              "      <th>점포_수</th>\n",
              "      <th>유사_업종_점포_수</th>\n",
              "      <th>개업_율</th>\n",
              "      <th>개업_점포_수</th>\n",
              "      <th>폐업_률</th>\n",
              "      <th>폐업_점포_수</th>\n",
              "      <th>프랜차이즈_점포_수</th>\n",
              "    </tr>\n",
              "  </thead>\n",
              "  <tbody>\n",
              "    <tr>\n",
              "      <th>0</th>\n",
              "      <td>20191</td>\n",
              "      <td>11740</td>\n",
              "      <td>강동구</td>\n",
              "      <td>CS100004</td>\n",
              "      <td>양식음식점</td>\n",
              "      <td>139</td>\n",
              "      <td>158</td>\n",
              "      <td>10</td>\n",
              "      <td>15</td>\n",
              "      <td>5</td>\n",
              "      <td>8</td>\n",
              "      <td>19</td>\n",
              "    </tr>\n",
              "    <tr>\n",
              "      <th>1</th>\n",
              "      <td>20191</td>\n",
              "      <td>11740</td>\n",
              "      <td>강동구</td>\n",
              "      <td>CS300004</td>\n",
              "      <td>핸드폰</td>\n",
              "      <td>209</td>\n",
              "      <td>215</td>\n",
              "      <td>6</td>\n",
              "      <td>12</td>\n",
              "      <td>4</td>\n",
              "      <td>9</td>\n",
              "      <td>6</td>\n",
              "    </tr>\n",
              "    <tr>\n",
              "      <th>2</th>\n",
              "      <td>20191</td>\n",
              "      <td>11740</td>\n",
              "      <td>강동구</td>\n",
              "      <td>CS200034</td>\n",
              "      <td>여관</td>\n",
              "      <td>124</td>\n",
              "      <td>125</td>\n",
              "      <td>2</td>\n",
              "      <td>2</td>\n",
              "      <td>5</td>\n",
              "      <td>6</td>\n",
              "      <td>1</td>\n",
              "    </tr>\n",
              "    <tr>\n",
              "      <th>3</th>\n",
              "      <td>20191</td>\n",
              "      <td>11110</td>\n",
              "      <td>종로구</td>\n",
              "      <td>CS200005</td>\n",
              "      <td>스포츠 강습</td>\n",
              "      <td>88</td>\n",
              "      <td>92</td>\n",
              "      <td>2</td>\n",
              "      <td>2</td>\n",
              "      <td>5</td>\n",
              "      <td>5</td>\n",
              "      <td>4</td>\n",
              "    </tr>\n",
              "    <tr>\n",
              "      <th>4</th>\n",
              "      <td>20191</td>\n",
              "      <td>11110</td>\n",
              "      <td>종로구</td>\n",
              "      <td>CS300020</td>\n",
              "      <td>서적</td>\n",
              "      <td>263</td>\n",
              "      <td>263</td>\n",
              "      <td>1</td>\n",
              "      <td>2</td>\n",
              "      <td>2</td>\n",
              "      <td>6</td>\n",
              "      <td>0</td>\n",
              "    </tr>\n",
              "    <tr>\n",
              "      <th>5</th>\n",
              "      <td>20191</td>\n",
              "      <td>11110</td>\n",
              "      <td>종로구</td>\n",
              "      <td>CS300036</td>\n",
              "      <td>조명용품</td>\n",
              "      <td>958</td>\n",
              "      <td>959</td>\n",
              "      <td>1</td>\n",
              "      <td>7</td>\n",
              "      <td>1</td>\n",
              "      <td>9</td>\n",
              "      <td>1</td>\n",
              "    </tr>\n",
              "    <tr>\n",
              "      <th>6</th>\n",
              "      <td>20191</td>\n",
              "      <td>11140</td>\n",
              "      <td>중구</td>\n",
              "      <td>CS300038</td>\n",
              "      <td>자동차부품</td>\n",
              "      <td>31</td>\n",
              "      <td>31</td>\n",
              "      <td>0</td>\n",
              "      <td>0</td>\n",
              "      <td>0</td>\n",
              "      <td>0</td>\n",
              "      <td>0</td>\n",
              "    </tr>\n",
              "  </tbody>\n",
              "</table>\n",
              "</div>"
            ],
            "text/plain": [
              "   기준_년분기_코드  자치구_코드 자치구_코드_명 서비스_업종_코드 서비스_업종_코드_명  점포_수  유사_업종_점포_수  개업_율  \\\n",
              "0      20191   11740      강동구  CS100004       양식음식점   139         158    10   \n",
              "1      20191   11740      강동구  CS300004         핸드폰   209         215     6   \n",
              "2      20191   11740      강동구  CS200034          여관   124         125     2   \n",
              "3      20191   11110      종로구  CS200005      스포츠 강습    88          92     2   \n",
              "4      20191   11110      종로구  CS300020          서적   263         263     1   \n",
              "5      20191   11110      종로구  CS300036        조명용품   958         959     1   \n",
              "6      20191   11140       중구  CS300038       자동차부품    31          31     0   \n",
              "\n",
              "   개업_점포_수  폐업_률  폐업_점포_수  프랜차이즈_점포_수  \n",
              "0       15     5        8          19  \n",
              "1       12     4        9           6  \n",
              "2        2     5        6           1  \n",
              "3        2     5        5           4  \n",
              "4        2     2        6           0  \n",
              "5        7     1        9           1  \n",
              "6        0     0        0           0  "
            ]
          },
          "execution_count": 17,
          "metadata": {},
          "output_type": "execute_result"
        }
      ],
      "source": [
        "market_df = pd.read_csv('서울시 상권분석서비스(점포-자치구).csv', encoding = 'CP949')\n",
        "market_df.head(7)"
      ]
    },
    {
      "cell_type": "code",
      "execution_count": null,
      "id": "e15b490b",
      "metadata": {
        "id": "e15b490b"
      },
      "outputs": [],
      "source": [
        "market_df['기준_년분기_코드'] = [str(y)[:4] for y in market_df['기준_년분기_코드']]"
      ]
    },
    {
      "cell_type": "code",
      "execution_count": null,
      "id": "70480448",
      "metadata": {
        "id": "70480448"
      },
      "outputs": [],
      "source": [
        "market_df_19 = market_df[market_df['기준_년분기_코드'] == '2019']\n",
        "market_df_23 = market_df[market_df['기준_년분기_코드'] == '2023']"
      ]
    },
    {
      "cell_type": "code",
      "execution_count": null,
      "id": "bde7ccda",
      "metadata": {
        "id": "bde7ccda",
        "outputId": "d55aabc2-934b-478c-906b-3641d94c50ce"
      },
      "outputs": [
        {
          "data": {
            "text/html": [
              "<div>\n",
              "<style scoped>\n",
              "    .dataframe tbody tr th:only-of-type {\n",
              "        vertical-align: middle;\n",
              "    }\n",
              "\n",
              "    .dataframe tbody tr th {\n",
              "        vertical-align: top;\n",
              "    }\n",
              "\n",
              "    .dataframe thead th {\n",
              "        text-align: right;\n",
              "    }\n",
              "</style>\n",
              "<table border=\"1\" class=\"dataframe\">\n",
              "  <thead>\n",
              "    <tr style=\"text-align: right;\">\n",
              "      <th></th>\n",
              "      <th>기준_년분기_코드</th>\n",
              "      <th>자치구_코드_명</th>\n",
              "      <th>서비스_업종_코드_명</th>\n",
              "      <th>프랜차이즈_점포_수</th>\n",
              "    </tr>\n",
              "  </thead>\n",
              "  <tbody>\n",
              "    <tr>\n",
              "      <th>0</th>\n",
              "      <td>2019</td>\n",
              "      <td>강동구</td>\n",
              "      <td>양식음식점</td>\n",
              "      <td>19</td>\n",
              "    </tr>\n",
              "    <tr>\n",
              "      <th>1</th>\n",
              "      <td>2019</td>\n",
              "      <td>강동구</td>\n",
              "      <td>핸드폰</td>\n",
              "      <td>6</td>\n",
              "    </tr>\n",
              "    <tr>\n",
              "      <th>2</th>\n",
              "      <td>2019</td>\n",
              "      <td>강동구</td>\n",
              "      <td>여관</td>\n",
              "      <td>1</td>\n",
              "    </tr>\n",
              "  </tbody>\n",
              "</table>\n",
              "</div>"
            ],
            "text/plain": [
              "  기준_년분기_코드 자치구_코드_명 서비스_업종_코드_명  프랜차이즈_점포_수\n",
              "0      2019      강동구       양식음식점          19\n",
              "1      2019      강동구         핸드폰           6\n",
              "2      2019      강동구          여관           1"
            ]
          },
          "execution_count": 27,
          "metadata": {},
          "output_type": "execute_result"
        }
      ],
      "source": [
        "market_df_1923 = pd.concat([market_df_19, market_df_23])\n",
        "\n",
        "market_df_1923 = market_df_1923[['기준_년분기_코드', '자치구_코드_명', '서비스_업종_코드_명', '프랜차이즈_점포_수']]\n",
        "market_df_1923.head(3)"
      ]
    },
    {
      "cell_type": "code",
      "execution_count": null,
      "id": "e21d7a1f",
      "metadata": {
        "id": "e21d7a1f",
        "outputId": "9b78aa4b-1aff-4c60-f393-32ffec3ca9e1"
      },
      "outputs": [
        {
          "data": {
            "text/plain": [
              "array(['편의점', '커피-음료', '한식음식점', '치킨전문점', '패스트푸드점', '분식전문점', '제과점', '화장품',\n",
              "       '호프-간이주점', '일식음식점', '양식음식점', '일반교습학원', '미용실', '세탁소', '문구', '의약품',\n",
              "       '슈퍼마켓', '독서실', '외국어학원', '안경', '피부관리실', '중식음식점', '예술학원', '자동차수리',\n",
              "       '일반의류', '골프연습장', '반찬가게', '스포츠 강습', 'PC방', '스포츠클럽', '네일숍', '노래방',\n",
              "       '전자상거래업', '게스트하우스', '핸드폰', '일반의원', '시계및귀금속', '애완동물', '비디오/서적임대',\n",
              "       '당구장', '서적', '유아의류', '건축물청소', '기타오락장', '청과상', '자동차미용', '신발', '여관',\n",
              "       '자동차부품', '육류판매', '컴퓨터및주변장치판매', '운동/경기용품', '섬유제품', '부동산중개업', '동물병원',\n",
              "       '변리사사무소', '인테리어', '사진관', '의료기기', '완구', '가방', '여행사', '통번역서비스',\n",
              "       '고시원', '가전제품', '철물점', '수산물판매', '중고차판매', '컴퓨터학원', '전자게임장', '통신기기수리',\n",
              "       '조명용품', '예술품', '화초', '미용재료', '주류도매', '가구', '중고가구', '녹음실', '미곡판매',\n",
              "       'DVD방', '주유소', '모터사이클및부품', '한복점', '가정용품임대', '치과의원', '복권방', '의류임대',\n",
              "       '모터사이클수리', '악기', '변호사사무소', '세무사사무소', '가전제품수리', '기타법무서비스', '볼링장',\n",
              "       '자전거 및 기타운송장비', '한의원', '재생용품 판매점', '회계사사무소', '법무사사무소'],\n",
              "      dtype=object)"
            ]
          },
          "execution_count": 36,
          "metadata": {},
          "output_type": "execute_result"
        }
      ],
      "source": [
        "market_df_1923_sort['서비스_업종_코드_명'].unique()"
      ]
    },
    {
      "cell_type": "code",
      "execution_count": null,
      "id": "e725ff05",
      "metadata": {
        "id": "e725ff05"
      },
      "outputs": [],
      "source": [
        "food = ['커피-음료', '한식음식점', '치킨전문점', '패스트푸드점', '분식전문점', '제과점', '호프-간이주점', '일식음식점',\n",
        "              '중식음식점', '반찬가게']"
      ]
    },
    {
      "cell_type": "code",
      "execution_count": null,
      "id": "0cada2cd",
      "metadata": {
        "id": "0cada2cd"
      },
      "outputs": [],
      "source": [
        "market_df_1923 = market_df_1923[market_df_1923['서비스_업종_코드_명'].isin(food)]"
      ]
    },
    {
      "cell_type": "code",
      "execution_count": null,
      "id": "41688547",
      "metadata": {
        "id": "41688547",
        "outputId": "c0860a3a-807f-471b-f86b-0b5ad2650ec6"
      },
      "outputs": [
        {
          "data": {
            "text/plain": [
              "array(['반찬가게', '커피-음료', '한식음식점', '패스트푸드점', '제과점', '분식전문점', '일식음식점',\n",
              "       '중식음식점', '호프-간이주점', '치킨전문점'], dtype=object)"
            ]
          },
          "execution_count": 44,
          "metadata": {},
          "output_type": "execute_result"
        }
      ],
      "source": [
        "market_df_1923['서비스_업종_코드_명'].unique()"
      ]
    },
    {
      "cell_type": "code",
      "execution_count": null,
      "id": "ca0d87d1",
      "metadata": {
        "id": "ca0d87d1"
      },
      "outputs": [],
      "source": [
        "market_df_1923_sort = market_df_1923.sort_values(by=['프랜차이즈_점포_수'], ascending=False)"
      ]
    },
    {
      "cell_type": "code",
      "execution_count": null,
      "id": "319d8692",
      "metadata": {
        "id": "319d8692",
        "outputId": "e4e0214c-cfe8-4fac-9f85-081ba1b7ff03"
      },
      "outputs": [
        {
          "data": {
            "text/html": [
              "<div>\n",
              "<style scoped>\n",
              "    .dataframe tbody tr th:only-of-type {\n",
              "        vertical-align: middle;\n",
              "    }\n",
              "\n",
              "    .dataframe tbody tr th {\n",
              "        vertical-align: top;\n",
              "    }\n",
              "\n",
              "    .dataframe thead th {\n",
              "        text-align: right;\n",
              "    }\n",
              "</style>\n",
              "<table border=\"1\" class=\"dataframe\">\n",
              "  <thead>\n",
              "    <tr style=\"text-align: right;\">\n",
              "      <th></th>\n",
              "      <th>기준_년분기_코드</th>\n",
              "      <th>자치구_코드_명</th>\n",
              "      <th>서비스_업종_코드_명</th>\n",
              "      <th>프랜차이즈_점포_수</th>\n",
              "    </tr>\n",
              "  </thead>\n",
              "  <tbody>\n",
              "    <tr>\n",
              "      <th>43669</th>\n",
              "      <td>2023</td>\n",
              "      <td>강남구</td>\n",
              "      <td>커피-음료</td>\n",
              "      <td>716</td>\n",
              "    </tr>\n",
              "    <tr>\n",
              "      <th>46180</th>\n",
              "      <td>2023</td>\n",
              "      <td>강남구</td>\n",
              "      <td>커피-음료</td>\n",
              "      <td>707</td>\n",
              "    </tr>\n",
              "    <tr>\n",
              "      <th>41095</th>\n",
              "      <td>2023</td>\n",
              "      <td>강남구</td>\n",
              "      <td>커피-음료</td>\n",
              "      <td>704</td>\n",
              "    </tr>\n",
              "    <tr>\n",
              "      <th>3604</th>\n",
              "      <td>2019</td>\n",
              "      <td>강남구</td>\n",
              "      <td>커피-음료</td>\n",
              "      <td>692</td>\n",
              "    </tr>\n",
              "    <tr>\n",
              "      <th>6109</th>\n",
              "      <td>2019</td>\n",
              "      <td>강남구</td>\n",
              "      <td>커피-음료</td>\n",
              "      <td>684</td>\n",
              "    </tr>\n",
              "    <tr>\n",
              "      <th>...</th>\n",
              "      <td>...</td>\n",
              "      <td>...</td>\n",
              "      <td>...</td>\n",
              "      <td>...</td>\n",
              "    </tr>\n",
              "    <tr>\n",
              "      <th>45918</th>\n",
              "      <td>2023</td>\n",
              "      <td>종로구</td>\n",
              "      <td>반찬가게</td>\n",
              "      <td>0</td>\n",
              "    </tr>\n",
              "    <tr>\n",
              "      <th>43577</th>\n",
              "      <td>2023</td>\n",
              "      <td>금천구</td>\n",
              "      <td>반찬가게</td>\n",
              "      <td>0</td>\n",
              "    </tr>\n",
              "    <tr>\n",
              "      <th>41370</th>\n",
              "      <td>2023</td>\n",
              "      <td>도봉구</td>\n",
              "      <td>반찬가게</td>\n",
              "      <td>0</td>\n",
              "    </tr>\n",
              "    <tr>\n",
              "      <th>46125</th>\n",
              "      <td>2023</td>\n",
              "      <td>금천구</td>\n",
              "      <td>반찬가게</td>\n",
              "      <td>0</td>\n",
              "    </tr>\n",
              "    <tr>\n",
              "      <th>41170</th>\n",
              "      <td>2023</td>\n",
              "      <td>종로구</td>\n",
              "      <td>반찬가게</td>\n",
              "      <td>0</td>\n",
              "    </tr>\n",
              "  </tbody>\n",
              "</table>\n",
              "<p>1750 rows × 4 columns</p>\n",
              "</div>"
            ],
            "text/plain": [
              "      기준_년분기_코드 자치구_코드_명 서비스_업종_코드_명  프랜차이즈_점포_수\n",
              "43669      2023      강남구       커피-음료         716\n",
              "46180      2023      강남구       커피-음료         707\n",
              "41095      2023      강남구       커피-음료         704\n",
              "3604       2019      강남구       커피-음료         692\n",
              "6109       2019      강남구       커피-음료         684\n",
              "...         ...      ...         ...         ...\n",
              "45918      2023      종로구        반찬가게           0\n",
              "43577      2023      금천구        반찬가게           0\n",
              "41370      2023      도봉구        반찬가게           0\n",
              "46125      2023      금천구        반찬가게           0\n",
              "41170      2023      종로구        반찬가게           0\n",
              "\n",
              "[1750 rows x 4 columns]"
            ]
          },
          "execution_count": 46,
          "metadata": {},
          "output_type": "execute_result"
        }
      ],
      "source": [
        "market_df_1923_sort"
      ]
    },
    {
      "cell_type": "code",
      "execution_count": null,
      "id": "2ccf9f72",
      "metadata": {
        "id": "2ccf9f72"
      },
      "outputs": [],
      "source": [
        "market_df_1923_sort.to_excel('서비스업종과_프랜차이즈점포수.xlsx', index=False)"
      ]
    },
    {
      "cell_type": "markdown",
      "id": "5ddbef78",
      "metadata": {
        "id": "5ddbef78"
      },
      "source": [
        "### 서비스업종과_프랜차이즈점포수 엑셀 파일 참고해서 자치구별 추정매출 데이터 서비스업종 한정 짓기"
      ]
    },
    {
      "cell_type": "code",
      "execution_count": null,
      "id": "cf73343c",
      "metadata": {
        "id": "cf73343c",
        "outputId": "02ca099c-367f-4129-8a05-5babda723021"
      },
      "outputs": [
        {
          "data": {
            "text/plain": [
              "array(['화초', '양식음식점', '치킨전문점', '시계및귀금속', '일반의원', '의약품', '의료기기', '화장품',\n",
              "       '철물점', '가방', '고시원', '가전제품수리', '반찬가게', '육류판매', '가구', '패스트푸드점',\n",
              "       '외국어학원', '서적', '한의원', '일식음식점', '스포츠 강습', '일반의류', '피부관리실', '수산물판매',\n",
              "       '청과상', '분식전문점', '여관', '섬유제품', '중식음식점', '안경', '컴퓨터및주변장치판매', '골프연습장',\n",
              "       '완구', '한식음식점', '핸드폰', '신발', '미용실', '자동차수리', '문구', '치과의원', '세탁소',\n",
              "       '미곡판매', '자동차미용', '일반교습학원', '운동/경기용품', '가전제품', '호프-간이주점', '네일숍',\n",
              "       '커피-음료', '슈퍼마켓', '자전거 및 기타운송장비', '조명용품', 'PC방', '애완동물', '인테리어',\n",
              "       '스포츠클럽', '전자상거래업', '당구장', '편의점', '제과점', '노래방', '부동산중개업', '예술학원'],\n",
              "      dtype=object)"
            ]
          },
          "execution_count": 48,
          "metadata": {},
          "output_type": "execute_result"
        }
      ],
      "source": [
        "sale_df_1923['서비스_업종_코드_명'].unique()"
      ]
    },
    {
      "cell_type": "code",
      "execution_count": null,
      "id": "4b7882a6",
      "metadata": {
        "id": "4b7882a6",
        "outputId": "a4549008-ad6d-418f-925d-15dd1dc26b90"
      },
      "outputs": [
        {
          "data": {
            "text/plain": [
              "array(['치킨전문점', '반찬가게', '패스트푸드점', '일식음식점', '분식전문점', '중식음식점', '한식음식점',\n",
              "       '호프-간이주점', '커피-음료', '제과점'], dtype=object)"
            ]
          },
          "execution_count": 50,
          "metadata": {},
          "output_type": "execute_result"
        }
      ],
      "source": [
        "# fm = food market^^\n",
        "\n",
        "sale_df_1923_fm = sale_df_1923[sale_df_1923['서비스_업종_코드_명'].isin(food)]\n",
        "sale_df_1923_fm['서비스_업종_코드_명'].unique()"
      ]
    },
    {
      "cell_type": "code",
      "execution_count": null,
      "id": "050ab7f3",
      "metadata": {
        "id": "050ab7f3",
        "outputId": "c397877d-568d-4e69-cff6-57c1a73e0982"
      },
      "outputs": [
        {
          "data": {
            "text/html": [
              "<div>\n",
              "<style scoped>\n",
              "    .dataframe tbody tr th:only-of-type {\n",
              "        vertical-align: middle;\n",
              "    }\n",
              "\n",
              "    .dataframe tbody tr th {\n",
              "        vertical-align: top;\n",
              "    }\n",
              "\n",
              "    .dataframe thead th {\n",
              "        text-align: right;\n",
              "    }\n",
              "</style>\n",
              "<table border=\"1\" class=\"dataframe\">\n",
              "  <thead>\n",
              "    <tr style=\"text-align: right;\">\n",
              "      <th></th>\n",
              "      <th>기준_년분기_코드</th>\n",
              "      <th>자치구_코드_명</th>\n",
              "      <th>서비스_업종_코드_명</th>\n",
              "      <th>당월_매출_금액</th>\n",
              "      <th>당월_매출_건수</th>\n",
              "      <th>주중_매출_금액</th>\n",
              "      <th>주중_매출_건수</th>\n",
              "      <th>주말_매출_금액</th>\n",
              "      <th>주말_매출_건수</th>\n",
              "      <th>남성_매출_금액</th>\n",
              "      <th>...</th>\n",
              "      <th>연령대_30_매출_금액</th>\n",
              "      <th>연령대_40_매출_금액</th>\n",
              "      <th>연령대_50_매출_금액</th>\n",
              "      <th>연령대_60_이상_매출_금액</th>\n",
              "      <th>연령대_10_매출_건수</th>\n",
              "      <th>연령대_20_매출_건수</th>\n",
              "      <th>연령대_30_매출_건수</th>\n",
              "      <th>연령대_40_매출_건수</th>\n",
              "      <th>연령대_50_매출_건수</th>\n",
              "      <th>연령대_60_이상_매출_건수</th>\n",
              "    </tr>\n",
              "  </thead>\n",
              "  <tbody>\n",
              "    <tr>\n",
              "      <th>2</th>\n",
              "      <td>2019</td>\n",
              "      <td>종로구</td>\n",
              "      <td>치킨전문점</td>\n",
              "      <td>3247811505</td>\n",
              "      <td>111086</td>\n",
              "      <td>2414124197</td>\n",
              "      <td>81739</td>\n",
              "      <td>833687308</td>\n",
              "      <td>29347</td>\n",
              "      <td>1765155389</td>\n",
              "      <td>...</td>\n",
              "      <td>698362320</td>\n",
              "      <td>599689873</td>\n",
              "      <td>471883377</td>\n",
              "      <td>161088031</td>\n",
              "      <td>2077</td>\n",
              "      <td>34735</td>\n",
              "      <td>25143</td>\n",
              "      <td>20359</td>\n",
              "      <td>16465</td>\n",
              "      <td>5826</td>\n",
              "    </tr>\n",
              "    <tr>\n",
              "      <th>12</th>\n",
              "      <td>2019</td>\n",
              "      <td>중구</td>\n",
              "      <td>반찬가게</td>\n",
              "      <td>38284145939</td>\n",
              "      <td>2500403</td>\n",
              "      <td>34017974426</td>\n",
              "      <td>2406577</td>\n",
              "      <td>4266171513</td>\n",
              "      <td>93826</td>\n",
              "      <td>17383279689</td>\n",
              "      <td>...</td>\n",
              "      <td>5379723645</td>\n",
              "      <td>10004039112</td>\n",
              "      <td>4532766065</td>\n",
              "      <td>7021760366</td>\n",
              "      <td>37603</td>\n",
              "      <td>606684</td>\n",
              "      <td>671009</td>\n",
              "      <td>565477</td>\n",
              "      <td>287413</td>\n",
              "      <td>140646</td>\n",
              "    </tr>\n",
              "    <tr>\n",
              "      <th>13</th>\n",
              "      <td>2019</td>\n",
              "      <td>중구</td>\n",
              "      <td>치킨전문점</td>\n",
              "      <td>2731665570</td>\n",
              "      <td>89130</td>\n",
              "      <td>2218031138</td>\n",
              "      <td>70991</td>\n",
              "      <td>513634432</td>\n",
              "      <td>18139</td>\n",
              "      <td>1423748374</td>\n",
              "      <td>...</td>\n",
              "      <td>608073771</td>\n",
              "      <td>555146650</td>\n",
              "      <td>419589604</td>\n",
              "      <td>135615039</td>\n",
              "      <td>856</td>\n",
              "      <td>21215</td>\n",
              "      <td>21426</td>\n",
              "      <td>18596</td>\n",
              "      <td>13951</td>\n",
              "      <td>5451</td>\n",
              "    </tr>\n",
              "    <tr>\n",
              "      <th>17</th>\n",
              "      <td>2019</td>\n",
              "      <td>중구</td>\n",
              "      <td>패스트푸드점</td>\n",
              "      <td>5578422284</td>\n",
              "      <td>547048</td>\n",
              "      <td>4185289116</td>\n",
              "      <td>419626</td>\n",
              "      <td>1393133168</td>\n",
              "      <td>127422</td>\n",
              "      <td>2332097223</td>\n",
              "      <td>...</td>\n",
              "      <td>1452906110</td>\n",
              "      <td>879053376</td>\n",
              "      <td>487472218</td>\n",
              "      <td>198016843</td>\n",
              "      <td>9420</td>\n",
              "      <td>190835</td>\n",
              "      <td>151583</td>\n",
              "      <td>89646</td>\n",
              "      <td>50438</td>\n",
              "      <td>24991</td>\n",
              "    </tr>\n",
              "    <tr>\n",
              "      <th>22</th>\n",
              "      <td>2019</td>\n",
              "      <td>용산구</td>\n",
              "      <td>일식음식점</td>\n",
              "      <td>6395079037</td>\n",
              "      <td>151674</td>\n",
              "      <td>4652152140</td>\n",
              "      <td>113396</td>\n",
              "      <td>1742926897</td>\n",
              "      <td>38278</td>\n",
              "      <td>2748801998</td>\n",
              "      <td>...</td>\n",
              "      <td>1421544324</td>\n",
              "      <td>966732215</td>\n",
              "      <td>737942043</td>\n",
              "      <td>428802904</td>\n",
              "      <td>2100</td>\n",
              "      <td>46368</td>\n",
              "      <td>36970</td>\n",
              "      <td>24185</td>\n",
              "      <td>16374</td>\n",
              "      <td>9145</td>\n",
              "    </tr>\n",
              "  </tbody>\n",
              "</table>\n",
              "<p>5 rows × 23 columns</p>\n",
              "</div>"
            ],
            "text/plain": [
              "   기준_년분기_코드 자치구_코드_명 서비스_업종_코드_명     당월_매출_금액  당월_매출_건수     주중_매출_금액  \\\n",
              "2       2019      종로구       치킨전문점   3247811505    111086   2414124197   \n",
              "12      2019       중구        반찬가게  38284145939   2500403  34017974426   \n",
              "13      2019       중구       치킨전문점   2731665570     89130   2218031138   \n",
              "17      2019       중구      패스트푸드점   5578422284    547048   4185289116   \n",
              "22      2019      용산구       일식음식점   6395079037    151674   4652152140   \n",
              "\n",
              "    주중_매출_건수    주말_매출_금액  주말_매출_건수     남성_매출_금액  ...  연령대_30_매출_금액  \\\n",
              "2      81739   833687308     29347   1765155389  ...     698362320   \n",
              "12   2406577  4266171513     93826  17383279689  ...    5379723645   \n",
              "13     70991   513634432     18139   1423748374  ...     608073771   \n",
              "17    419626  1393133168    127422   2332097223  ...    1452906110   \n",
              "22    113396  1742926897     38278   2748801998  ...    1421544324   \n",
              "\n",
              "    연령대_40_매출_금액  연령대_50_매출_금액  연령대_60_이상_매출_금액  연령대_10_매출_건수  연령대_20_매출_건수  \\\n",
              "2      599689873     471883377        161088031          2077         34735   \n",
              "12   10004039112    4532766065       7021760366         37603        606684   \n",
              "13     555146650     419589604        135615039           856         21215   \n",
              "17     879053376     487472218        198016843          9420        190835   \n",
              "22     966732215     737942043        428802904          2100         46368   \n",
              "\n",
              "    연령대_30_매출_건수  연령대_40_매출_건수  연령대_50_매출_건수  연령대_60_이상_매출_건수  \n",
              "2          25143         20359         16465             5826  \n",
              "12        671009        565477        287413           140646  \n",
              "13         21426         18596         13951             5451  \n",
              "17        151583         89646         50438            24991  \n",
              "22         36970         24185         16374             9145  \n",
              "\n",
              "[5 rows x 23 columns]"
            ]
          },
          "execution_count": 52,
          "metadata": {},
          "output_type": "execute_result"
        }
      ],
      "source": [
        "sale_df_1923_fm.head(5)"
      ]
    },
    {
      "cell_type": "code",
      "execution_count": null,
      "id": "9b8f017a",
      "metadata": {
        "id": "9b8f017a"
      },
      "outputs": [],
      "source": [
        "sale_df_1923_fm.to_excel('김보경_자치구별_추정매출_1.xlsx', index=False)"
      ]
    },
    {
      "cell_type": "code",
      "execution_count": null,
      "id": "a674ca71",
      "metadata": {
        "id": "a674ca71"
      },
      "outputs": [],
      "source": []
    }
  ],
  "metadata": {
    "kernelspec": {
      "display_name": "Python 3 (ipykernel)",
      "language": "python",
      "name": "python3"
    },
    "language_info": {
      "codemirror_mode": {
        "name": "ipython",
        "version": 3
      },
      "file_extension": ".py",
      "mimetype": "text/x-python",
      "name": "python",
      "nbconvert_exporter": "python",
      "pygments_lexer": "ipython3",
      "version": "3.10.9"
    },
    "colab": {
      "provenance": [],
      "include_colab_link": true
    }
  },
  "nbformat": 4,
  "nbformat_minor": 5
}